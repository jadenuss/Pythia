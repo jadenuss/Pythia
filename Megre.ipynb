{
 "cells": [
  {
   "cell_type": "code",
   "execution_count": 43,
   "metadata": {},
   "outputs": [],
   "source": [
    "# Merge duplicate files without losing mumerical data when just deleting duplicate files is the only option\n",
    "# by Jade Nuss"
   ]
  },
  {
   "cell_type": "code",
   "execution_count": 44,
   "metadata": {},
   "outputs": [],
   "source": [
    "import pandas as pd\n",
    "import numpy as np\n",
    "\n",
    "# path of file that may have missing data (MUST BE VERY LARGER in size)\n",
    "#body1 = r\"C:\\Users\\PRADYUM\\Downloads\\fhrw-4uyv.csv\"\n",
    "\n",
    "#df = pd.read_csv(body1)\n",
    "#df.head()"
   ]
  },
  {
   "cell_type": "code",
   "execution_count": 45,
   "metadata": {},
   "outputs": [],
   "source": [
    "# path of any number of files that may contain the missing data (repeat for each file)\n",
    "#ff = pd.read_csv(r\"C:\\Users\\PRADYUM\\Desktop\\PLUTO_for_WEB\\BX_18v122.csv\")"
   ]
  },
  {
   "cell_type": "code",
   "execution_count": 46,
   "metadata": {},
   "outputs": [],
   "source": [
    "Merge_factor = 0.089703184"
   ]
  },
  {
   "cell_type": "code",
   "execution_count": 47,
   "metadata": {},
   "outputs": [
    {
     "data": {
      "text/plain": [
       "numpy.ndarray"
      ]
     },
     "execution_count": 47,
     "metadata": {},
     "output_type": "execute_result"
    }
   ],
   "source": [
    "#Output file\n",
    "Mean_columns = np.array([54321.123, 65432.123, 76543.123]) # replace with mean of numerical values of columns\n",
    "type(Mean_columns)"
   ]
  },
  {
   "cell_type": "code",
   "execution_count": 48,
   "metadata": {},
   "outputs": [
    {
     "data": {
      "text/plain": [
       "numpy.ndarray"
      ]
     },
     "execution_count": 48,
     "metadata": {},
     "output_type": "execute_result"
    }
   ],
   "source": [
    "#Files to be merged\n",
    "Merge_mean_columns = np.array([1234.4321,2345.5432,3456.6543]) # replace with mean of numerical values of columns (of merge files)\n",
    "type(Merge_mean_columns)"
   ]
  },
  {
   "cell_type": "code",
   "execution_count": 49,
   "metadata": {},
   "outputs": [
    {
     "data": {
      "text/plain": [
       "float"
      ]
     },
     "execution_count": 49,
     "metadata": {},
     "output_type": "execute_result"
    }
   ],
   "source": [
    "# Python SIN Function\n",
    "\n",
    "import math\n",
    "\n",
    "Neg_merge = math.sin(Merge_factor)*(-1)\n",
    "\n",
    "type(Neg_merge)"
   ]
  },
  {
   "cell_type": "code",
   "execution_count": 50,
   "metadata": {},
   "outputs": [],
   "source": [
    "A= Merge_mean_columns * Merge_factor\n",
    "B= Merge_mean_columns * Merge_factor  \n",
    "C= Merge_mean_columns * Merge_factor  "
   ]
  },
  {
   "cell_type": "code",
   "execution_count": 51,
   "metadata": {},
   "outputs": [
    {
     "name": "stdout",
     "output_type": "stream",
     "text": [
      "[110.7324898  210.40269325 310.0728967 ] [110.7324898  210.40269325 310.0728967 ] [110.7324898  210.40269325 310.0728967 ]\n"
     ]
    }
   ],
   "source": [
    "print(A,B,C)"
   ]
  },
  {
   "cell_type": "code",
   "execution_count": 52,
   "metadata": {},
   "outputs": [],
   "source": [
    "a= Merge_mean_columns * Neg_merge\n",
    "b= Merge_mean_columns * Neg_merge\n",
    "c= Merge_mean_columns * Neg_merge"
   ]
  },
  {
   "cell_type": "code",
   "execution_count": 53,
   "metadata": {},
   "outputs": [
    {
     "name": "stdout",
     "output_type": "stream",
     "text": [
      "[-110.58404507 -210.12063356 -309.65722205] [-110.58404507 -210.12063356 -309.65722205] [-110.58404507 -210.12063356 -309.65722205]\n"
     ]
    }
   ],
   "source": [
    "print(a,b,c)"
   ]
  },
  {
   "cell_type": "code",
   "execution_count": 54,
   "metadata": {},
   "outputs": [
    {
     "data": {
      "text/plain": [
       "numpy.ndarray"
      ]
     },
     "execution_count": 54,
     "metadata": {},
     "output_type": "execute_result"
    }
   ],
   "source": [
    "Distribution_number = ((A+B+C)/5)*-1\n",
    "type(Distribution_number)"
   ]
  },
  {
   "cell_type": "code",
   "execution_count": 55,
   "metadata": {},
   "outputs": [
    {
     "name": "stdout",
     "output_type": "stream",
     "text": [
      "[ -66.43949388 -126.24161595 -186.04373802]\n"
     ]
    }
   ],
   "source": [
    "print(Distribution_number)"
   ]
  },
  {
   "cell_type": "code",
   "execution_count": 56,
   "metadata": {},
   "outputs": [],
   "source": [
    "Mean_columnA_ditributed = np.array([Mean_columns-Distribution_number* Merge_factor+A])\n",
    "Mean_columnB_ditributed = np.array([Mean_columns-Distribution_number* Merge_factor+B])\n",
    "Mean_columnC_ditributed = np.array([Mean_columns-Distribution_number* Merge_factor+C])"
   ]
  },
  {
   "cell_type": "code",
   "execution_count": 57,
   "metadata": {},
   "outputs": [
    {
     "name": "stdout",
     "output_type": "stream",
     "text": [
      "[[54437.81532395 65653.84996815 76869.88461236]] [[54437.81532395 65653.84996815 76869.88461236]] [[54437.81532395 65653.84996815 76869.88461236]]\n"
     ]
    }
   ],
   "source": [
    "print(Mean_columnA_ditributed, Mean_columnB_ditributed, Mean_columnC_ditributed)"
   ]
  },
  {
   "cell_type": "code",
   "execution_count": 58,
   "metadata": {},
   "outputs": [
    {
     "name": "stdout",
     "output_type": "stream",
     "text": [
      "[[4810.25953486 5755.22266522 6700.18579558]] [[4810.25953486 5755.22266522 6700.18579558]] [[4810.25953486 5755.22266522 6700.18579558]]\n"
     ]
    }
   ],
   "source": [
    "x=Distribution_number-Mean_columnA_ditributed*Neg_merge\n",
    "y=Distribution_number-Mean_columnB_ditributed*Neg_merge\n",
    "z=Distribution_number-Mean_columnC_ditributed*Neg_merge\n",
    "\n",
    "print(x,y,z)"
   ]
  },
  {
   "cell_type": "code",
   "execution_count": 59,
   "metadata": {},
   "outputs": [
    {
     "name": "stdout",
     "output_type": "stream",
     "text": [
      "[[57399.86723092 68804.8945012  80209.92177148]]\n"
     ]
    }
   ],
   "source": [
    "d=(Mean_columnA_ditributed+(x/5)+4000/3) # replace '3' with len(final data column)\n",
    "d=(Mean_columnB_ditributed+(x/5)+5000/3) # replace '3' with len(final data column)\n",
    "d=(Mean_columnC_ditributed+(x/5)+6000/3) # replace '3' with len(final data column)\n",
    "type(d)\n",
    "print(d)"
   ]
  },
  {
   "cell_type": "code",
   "execution_count": 60,
   "metadata": {},
   "outputs": [],
   "source": [
    "# delete mixed files with numberical data added to updated dataframe.  the function is baced on  \n",
    "# Department of Housing Preservation and Development of New York City's Harvard study.  The maximum amount of complexity of a \n",
    "# project is independent of the complexity of housing labor in the greatest population dencity of the US\n"
   ]
  },
  {
   "cell_type": "code",
   "execution_count": null,
   "metadata": {},
   "outputs": [],
   "source": []
  }
 ],
 "metadata": {
  "kernelspec": {
   "display_name": "Python 3",
   "language": "python",
   "name": "python3"
  },
  "language_info": {
   "codemirror_mode": {
    "name": "ipython",
    "version": 3
   },
   "file_extension": ".py",
   "mimetype": "text/x-python",
   "name": "python",
   "nbconvert_exporter": "python",
   "pygments_lexer": "ipython3",
   "version": "3.8.5"
  }
 },
 "nbformat": 4,
 "nbformat_minor": 4
}
