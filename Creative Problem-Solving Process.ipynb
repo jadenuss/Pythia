{
 "cells": [
  {
   "cell_type": "markdown",
   "metadata": {},
   "source": [
    "Creative Problem-Solving Process\n",
    "by Jade Nuss - SNHU"
   ]
  },
  {
   "cell_type": "code",
   "execution_count": 1,
   "metadata": {},
   "outputs": [],
   "source": [
    "%matplotlib inline"
   ]
  },
  {
   "cell_type": "code",
   "execution_count": 3,
   "metadata": {},
   "outputs": [
    {
     "name": "stdout",
     "output_type": "stream",
     "text": [
      "Wall time: 22 ms\n"
     ]
    }
   ],
   "source": [
    "def f(x):\n",
    "    s = \"\"\n",
    "    for i in range(x):\n",
    "        s += \" \"\n",
    "    return s\n",
    "\n",
    "%time p = f(100000)"
   ]
  },
  {
   "cell_type": "code",
   "execution_count": 8,
   "metadata": {},
   "outputs": [
    {
     "name": "stdout",
     "output_type": "stream",
     "text": [
      "Clarify: 0.2150954940000247\n",
      "217 ms ± 2.83 ms per loop (mean ± std. dev. of 2 runs, 3 loops each)\n",
      " Ideate, Develop: [0.6410615039999357, 0.6580694609999682]\n",
      "Implement, 'Evaluate: 0.21368716799997856\n"
     ]
    }
   ],
   "source": [
    "# Problem size to test\n",
    "N = 1000000\n",
    "\n",
    "# Time the command 'p = f(N)' once, suppressing output (-q).\n",
    "t = %timeit -o -n1 -r1 -q p = f(N)\n",
    "\n",
    "# Get best (only) timing\n",
    "print(\"Clarify: {}\".format(t.best))\n",
    "\n",
    "# Time the command 'p = f(N)' twice, calling three times each (not quiet)\n",
    "t = %timeit -o -n3 -r2 p = f(N)\n",
    "\n",
    "# Get results of all runs as a list (length will be 2 since we used -r2)\n",
    "print(\" Ideate, Develop: {}\".format(t.all_runs))\n",
    "\n",
    "# Best time will be 1/3 (since we used of lowest value in t.all_runs\n",
    "print(\"Implement, 'Evaluate: {}\".format(t.best))"
   ]
  },
  {
   "cell_type": "code",
   "execution_count": 9,
   "metadata": {},
   "outputs": [
    {
     "name": "stdout",
     "output_type": "stream",
     "text": [
      "0 Clarify\n",
      "1  Ideate\n",
      "2 Develop\n",
      "3 Implement\n",
      "4 Evaluate\n"
     ]
    }
   ],
   "source": [
    "psp=['Clarify', ' Ideate', 'Develop', 'Implement', 'Evaluate']\n",
    "\n",
    "for i, psp in enumerate(psp):\n",
    "    print(i, psp)"
   ]
  },
  {
   "cell_type": "markdown",
   "metadata": {},
   "source": [
    "# The Steps of the Creative Problem-Solving Process\n",
    "Training oneself to think like an entrepreneur means learning the steps to evaluating a challenge: clarify, ideate, develop, implement, and evaluate"
   ]
  },
  {
   "cell_type": "code",
   "execution_count": 17,
   "metadata": {},
   "outputs": [
    {
     "name": "stdout",
     "output_type": "stream",
     "text": [
      "Rate your problem 1-107\n"
     ]
    }
   ],
   "source": [
    "pr = eval(input(\"Rate your problem 1-10\"))"
   ]
  },
  {
   "cell_type": "code",
   "execution_count": 19,
   "metadata": {},
   "outputs": [
    {
     "name": "stdout",
     "output_type": "stream",
     "text": [
      "problems include staffing,hiring and managing employees, handling legal compliance, funding, marketing, and paying taxes.\n",
      "move on\n"
     ]
    }
   ],
   "source": [
    "if pr > 5:\n",
    "    print(\"problems include staffing,hiring and managing employees, handling legal compliance, funding, marketing, and paying taxes.\" )\n",
    "elif pr == 5:\n",
    "    print(\"Some entrepreneurial collaborative methodologies include crowdsourcing, brainstorming, storyboarding, conducting quick online surveys to test ideas and concepts, and team creativity activities.\")\n",
    "else:\n",
    "    print(\"Crowdsourcing involves teams of amateurs and nonexperts working together to form a solution to a problem\" )\n",
    "    \n",
    "print(\"Brainstorming\")"
   ]
  },
  {
   "cell_type": "markdown",
   "metadata": {},
   "source": [
    "# Brainstorming\n",
    "Brainstorming is the generation of ideas in an environment free of judgment or dissension with the goal of creating solutions."
   ]
  },
  {
   "cell_type": "code",
   "execution_count": 20,
   "metadata": {},
   "outputs": [
    {
     "name": "stdout",
     "output_type": "stream",
     "text": [
      "Rate your problem 1-10 again4\n"
     ]
    }
   ],
   "source": [
    "pr2 = eval(input(\"Rate your problem 1-10 again\"))"
   ]
  },
  {
   "cell_type": "code",
   "execution_count": 22,
   "metadata": {},
   "outputs": [
    {
     "name": "stdout",
     "output_type": "stream",
     "text": [
      "Participants are asked to identify some aspect of a cow and develop three business models around that concept in a short time period, typically two minutes or fewer\n",
      "Team Creativity\n",
      "Team creativity is the process whereby an entrepreneur works with a team to create an unexpected solution for an issue or challenge.\n"
     ]
    }
   ],
   "source": [
    "if pr > 5:\n",
    "    print(\"Participants are asked to identify some aspect of a cow and develop three business models around that concept in a short time period, typically two minutes or fewer\" )\n",
    "elif pr == 5:\n",
    "    print(\"Storyboarding is the process of presenting an idea in a step-by-step graphic format. This tool is useful when the entrepreneur is attempting to visualize a solution to a problem. The steps to the solution of a problem are sketched and hung in graphic format.\")\n",
    "else:\n",
    "    print(\"Crowdsourcing involves teams of amateurs and nonexperts working together to form a solution to a problem\" )\n",
    "    \n",
    "print(\"Team Creativity\")\n",
    "print(\"Team creativity is the process whereby an entrepreneur works with a team to create an unexpected solution for an issue or challenge.\")"
   ]
  },
  {
   "cell_type": "code",
   "execution_count": 25,
   "metadata": {},
   "outputs": [
    {
     "name": "stdout",
     "output_type": "stream",
     "text": [
      "Clarify: 0.216784116999861\n",
      "216 ms ± 1.39 ms per loop (mean ± std. dev. of 2 runs, 3 loops each)\n",
      " Ideate, Develop: [0.6444827489999625, 0.652834439000344]\n",
      "Implement, 'Evaluate: 0.2148275829999875\n"
     ]
    }
   ],
   "source": [
    "# Problem size to test\n",
    "N = (int(pr/pr)*1000000)\n",
    "\n",
    "# Time the command 'p = f(N)' once, suppressing output (-q).\n",
    "t = %timeit -o -n1 -r1 -q p = f(N)\n",
    "\n",
    "# Get best (only) timing\n",
    "print(\"Clarify: {}\".format(t.best))\n",
    "\n",
    "# Time the command 'p = f(N)' twice, calling three times each (not quiet)\n",
    "t = %timeit -o -n3 -r2 p = f(N)\n",
    "\n",
    "# Get results of all runs as a list (length will be 2 since we used -r2)\n",
    "print(\" Ideate, Develop: {}\".format(t.all_runs))\n",
    "\n",
    "# Best time will be 1/3 (since we used of lowest value in t.all_runs\n",
    "print(\"Implement, 'Evaluate: {}\".format(t.best))"
   ]
  },
  {
   "cell_type": "code",
   "execution_count": 26,
   "metadata": {},
   "outputs": [
    {
     "name": "stdout",
     "output_type": "stream",
     "text": [
      "The team continued to test the process and gathered____, which they sent to ____ to create _____. They trained individuals with disabilities in ______ to manufacture _______, thus serving populations in _______. The entrepreneurs then decided to take 20 percent of their profits and make microloans to farmers and small business owners in the countries where the ______ originated to create jobs there.\n"
     ]
    }
   ],
   "source": [
    "print(\"The team continued to test the process and gathered____, which they sent to ____ to create _____. They trained individuals with disabilities in ______ to manufacture _______, thus serving populations in _______. The entrepreneurs then decided to take 20 percent of their profits and make microloans to farmers and small business owners in the countries where the ______ originated to create jobs there.\")"
   ]
  },
  {
   "cell_type": "code",
   "execution_count": null,
   "metadata": {},
   "outputs": [],
   "source": []
  }
 ],
 "metadata": {
  "kernelspec": {
   "display_name": "Python 3",
   "language": "python",
   "name": "python3"
  },
  "language_info": {
   "codemirror_mode": {
    "name": "ipython",
    "version": 3
   },
   "file_extension": ".py",
   "mimetype": "text/x-python",
   "name": "python",
   "nbconvert_exporter": "python",
   "pygments_lexer": "ipython3",
   "version": "3.8.5"
  }
 },
 "nbformat": 4,
 "nbformat_minor": 4
}
